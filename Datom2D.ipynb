{
 "cells": [
  {
   "attachments": {},
   "cell_type": "markdown",
   "metadata": {},
   "source": [
    "# Simulating a Datom in 2D\n",
    "\n",
    "We want to simulate 2 monads in dynamic conditions at different sizes to find out the forces required and therefore assess the scalability of the design both upwards and downwards.\n",
    "Because of the symmetries of the design we can the model to just simulate the faces involved in the movement for each monad, and consider the rest to be rigid."
   ]
  },
  {
   "cell_type": "code",
   "execution_count": 5,
   "metadata": {},
   "outputs": [],
   "source": [
    "from math import sqrt, cos, sin\n",
    "from matplotlib import pyplot as plt\n",
    "from matplotlib import collections as mc\n",
    "import numpy as np"
   ]
  },
  {
   "attachments": {},
   "cell_type": "markdown",
   "metadata": {},
   "source": [
    "## Describing the monad\n",
    "\n",
    "The monad can be fully described by its **radius**, the **friction** at the joints and the **density** of the material it's made out of.\n",
    "For the purposes of this model we assume the monad is fully made out of nylon with a density of 1.15x10^3 kg/m^3"
   ]
  },
  {
   "cell_type": "code",
   "execution_count": 27,
   "metadata": {},
   "outputs": [
    {
     "name": "stdout",
     "output_type": "stream",
     "text": [
      "radius = 75.0 mm\n",
      "face length = 46.258594298111326 mm\n",
      "link lenght = 13.548828581759444 mm\n",
      "monad mass = 0.2771700512112511 kg\n"
     ]
    }
   ],
   "source": [
    "radius = 0.075\n",
    "face_length = (2 * radius) / (3 * sqrt(2) - 1)\n",
    "link_length = radius * ((2 - sqrt(2)) / (3 * sqrt(2) - 1))\n",
    "\n",
    "thickness = radius / 25\n",
    "\n",
    "piston_extension_max = link_length + face_length / sqrt(2)\n",
    "\n",
    "density = 1.15e3\n",
    "gravity = 9.8\n",
    "\n",
    "face_volume = face_length ** 2 * thickness\n",
    "link_volume = link_length * face_length * thickness\n",
    "\n",
    "n_faces = 18\n",
    "n_links = 24\n",
    "\n",
    "monad_mass = (face_volume * n_faces + link_volume * n_links) * density * 1.5\n",
    "\n",
    "print(f'radius = {radius*1000} mm\\nface length = {face_length*1000} mm\\nlink lenght = {link_length*1000} mm\\nmonad mass = {monad_mass} kg')"
   ]
  },
  {
   "cell_type": "code",
   "execution_count": 28,
   "metadata": {},
   "outputs": [
    {
     "data": {
      "image/png": "[encoded data removed]",
      "text/plain": [
       "<Figure size 640x480 with 1 Axes>"
      ]
     },
     "metadata": {},
     "output_type": "display_data"
    }
   ],
   "source": [
    "linkages = [[(0.0, 0.0), (0.0, piston_extension_max)], \n",
    "            [(0.0, piston_extension_max), (link_length,piston_extension_max)], \n",
    "            [(link_length,piston_extension_max), (piston_extension_max, link_length)],\n",
    "            [(piston_extension_max, link_length), (piston_extension_max, 0)]]\n",
    "\n",
    "colours = np.array([(1, 0, 0, 1), (0, 1, 0, 1), (0, 0, 1, 1), (0, 1, 0, 1)])\n",
    "\n",
    "lc = mc.LineCollection(linkages, colors=colours, linewidths=2)\n",
    "fig, ax = plt.subplots()\n",
    "ax.add_collection(lc)\n",
    "ax.autoscale()\n",
    "ax.margins(0.1)"
   ]
  },
  {
   "cell_type": "code",
   "execution_count": 14,
   "metadata": {},
   "outputs": [],
   "source": [
    "def draw_mechanism(piston_extension):\n",
    "    link_origin = (0.0,piston_extension*piston_extension_max)\n",
    "    face_origin = (piston_extension_max, link_length)\n",
    "\n",
    "    dx = link_origin[0] - face_origin[0]\n",
    "    dy = link_origin[1] - face_origin[1]\n",
    "    d = sqrt(dx**2+dy**2)\n",
    "\n",
    "    if d > link_length+face_length:\n",
    "        print(\"centres too distant\")\n",
    "        return None\n",
    "    if d < abs(link_length-face_length):\n",
    "        ()\n",
    "        return None # no solutions because one circle is contained within the other\n",
    "    if d == 0 and link_length == face_length:\n",
    "        return None # circles are coincident and there are an infinite number of solutions \n",
    "\n",
    "    a = (link_length**2-face_length**2+d*d)/(2*d)\n",
    "    h = sqrt(link_length**2-a**2)\n",
    "    xm = link_origin[0] + a*dx/d\n",
    "    ym = link_origin[1] + a*dy/d\n",
    "    xs1 = xm + h*dy/d\n",
    "    xs2 = xm - h*dy/d\n",
    "    ys1 = ym - h*dx/d\n",
    "    ys2 = ym + h*dx/d\n",
    "\n",
    "    return (xs1,ys1),(xs2,ys2)"
   ]
  },
  {
   "cell_type": "code",
   "execution_count": 19,
   "metadata": {},
   "outputs": [],
   "source": [
    "from shapely import Point\n"
   ]
  }
 ],
 "metadata": {
  "kernelspec": {
   "display_name": "venv",
   "language": "python",
   "name": "python3"
  },
  "language_info": {
   "codemirror_mode": {
    "name": "ipython",
    "version": 3
   },
   "file_extension": ".py",
   "mimetype": "text/x-python",
   "name": "python",
   "nbconvert_exporter": "python",
   "pygments_lexer": "ipython3",
   "version": "3.9.6"
  },
  "orig_nbformat": 4,
  "vscode": {
   "interpreter": {
    "hash": "150b86a4a34ea02801c3feaa837716b44f2ef73ae5fd1394511c50901a0b517b"
   }
  }
 },
 "nbformat": 4,
 "nbformat_minor": 2
}

{
 "cells": [
  {
   "cell_type": "code",
   "execution_count": 1,
   "metadata": {},
   "outputs": [],
   "source": [
    "import pandas as pd\n",
    "import MonadModels\n",
    "from MonadModels import Monad, MobileMonadActuatorForce, StaticMonadActuatorForce, MonadTesting\n",
    "import numpy as np\n",
    "from math import pi\n",
    "import tqdm"
   ]
  },
  {
   "cell_type": "code",
   "execution_count": 2,
   "metadata": {},
   "outputs": [],
   "source": [
    "radius_array = np.arange(0.005,.250,0.005)"
   ]
  },
  {
   "cell_type": "code",
   "execution_count": 3,
   "metadata": {},
   "outputs": [],
   "source": [
    "relative_core_mass_array = np.arange(0.1,3.0,0.2)"
   ]
  },
  {
   "cell_type": "code",
   "execution_count": 4,
   "metadata": {},
   "outputs": [],
   "source": [
    "density_array_material = ['HDPE','Nylon','PLA','PET','FR4','Aluminium']\n",
    "density_array_value = [0.9e3,1.15e3,1.124e3,1455,1.85e3,2.7e3]\n",
    "density_array = zip(density_array_material,density_array_value)"
   ]
  },
  {
   "cell_type": "code",
   "execution_count": 5,
   "metadata": {},
   "outputs": [],
   "source": [
    "gravity_array_location = ['Earth','Moon','Mars']\n",
    "gravity_array_value = [9.81, 1.62, 3.72]\n",
    "gravity_array = zip(gravity_array_location, gravity_array_value)"
   ]
  },
  {
   "cell_type": "code",
   "execution_count": 6,
   "metadata": {},
   "outputs": [],
   "source": [
    "orientation_array = np.arange(0,2*pi,pi/12)"
   ]
  },
  {
   "cell_type": "code",
   "execution_count": 7,
   "metadata": {},
   "outputs": [],
   "source": [
    "iterables = [radius_array, density_array_value, relative_core_mass_array, gravity_array_value, orientation_array]\n",
    "\n",
    "datom_index = pd.MultiIndex.from_product(iterables, names=['radius', 'core frame mass ratio', 'density', 'gravity', 'orientation'])"
   ]
  },
  {
   "cell_type": "code",
   "execution_count": 9,
   "metadata": {},
   "outputs": [
    {
     "name": "stderr",
     "output_type": "stream",
     "text": [
      "  9%|▉         | 29811/317520 [42:37<6:51:18, 11.66it/s] \n"
     ]
    },
    {
     "ename": "KeyboardInterrupt",
     "evalue": "",
     "output_type": "error",
     "traceback": [
      "\u001b[0;31m---------------------------------------------------------------------------\u001b[0m",
      "\u001b[0;31mKeyboardInterrupt\u001b[0m                         Traceback (most recent call last)",
      "Cell \u001b[0;32mIn[9], line 11\u001b[0m\n\u001b[1;32m      9\u001b[0m \u001b[39mfor\u001b[39;00m i \u001b[39min\u001b[39;00m tqdm\u001b[39m.\u001b[39mtrange(index_len):\n\u001b[1;32m     10\u001b[0m     parameter \u001b[39m=\u001b[39m datom_index[i]\n\u001b[0;32m---> 11\u001b[0m     static, mobile, torque_p1, torque_p2, shear \u001b[39m=\u001b[39m MonadTesting(radius\u001b[39m=\u001b[39;49mparameter[\u001b[39m0\u001b[39;49m],density\u001b[39m=\u001b[39;49mparameter[\u001b[39m1\u001b[39;49m],core\u001b[39m=\u001b[39;49mparameter[\u001b[39m2\u001b[39;49m],gravity\u001b[39m=\u001b[39;49mparameter[\u001b[39m3\u001b[39;49m],orientation\u001b[39m=\u001b[39;49mparameter[\u001b[39m4\u001b[39;49m],steps\u001b[39m=\u001b[39;49mn_step)\n\u001b[1;32m     12\u001b[0m     static_force[i,:] \u001b[39m=\u001b[39m static\n\u001b[1;32m     13\u001b[0m     mobile_force[i,:] \u001b[39m=\u001b[39m mobile\n",
      "File \u001b[0;32m~/Documents/IMPRESS_code/datom-models/MonadModels.py:342\u001b[0m, in \u001b[0;36mMonadTesting\u001b[0;34m(radius, density, core, gravity, orientation, steps)\u001b[0m\n\u001b[1;32m    340\u001b[0m \u001b[39mfor\u001b[39;00m i \u001b[39min\u001b[39;00m \u001b[39mrange\u001b[39m(steps):\n\u001b[1;32m    341\u001b[0m     MonadOnMonad(monad_static,monad_mobile,piston_extension\u001b[39m=\u001b[39mi\u001b[39m/\u001b[39msteps)\n\u001b[0;32m--> 342\u001b[0m     force_static[i] \u001b[39m=\u001b[39m StaticMonadActuatorForce(monad_static,monad_mobile,gravity_vec)\n\u001b[1;32m    343\u001b[0m     force_mobile[i] \u001b[39m=\u001b[39m MobileMonadActuatorForce(monad_static,monad_mobile,gravity_vec)\n\u001b[1;32m    344\u001b[0m     latch_torque_p1[i], latch_torque_p2[i] \u001b[39m=\u001b[39m LatchTorques(monad_mobile,gravity_vec)\n",
      "File \u001b[0;32m~/Documents/IMPRESS_code/datom-models/MonadModels.py:277\u001b[0m, in \u001b[0;36mStaticMonadActuatorForce\u001b[0;34m(monad_static, monad_mobile, gravity)\u001b[0m\n\u001b[1;32m    273\u001b[0m \u001b[39mdef\u001b[39;00m \u001b[39mStaticMonadActuatorForce\u001b[39m(monad_static \u001b[39m=\u001b[39m Monad, monad_mobile \u001b[39m=\u001b[39m Monad, gravity \u001b[39m=\u001b[39m [\u001b[39m0\u001b[39m,\u001b[39m-\u001b[39m\u001b[39m9.8\u001b[39m]):\n\u001b[1;32m    275\u001b[0m     gravity \u001b[39m=\u001b[39m np\u001b[39m.\u001b[39marray(gravity)\n\u001b[0;32m--> 277\u001b[0m     latch1_torque \u001b[39m=\u001b[39m Force2Torque(monad_static\u001b[39m.\u001b[39;49mlatch1\u001b[39m.\u001b[39;49mmass\u001b[39m*\u001b[39;49mgravity, monad_static\u001b[39m.\u001b[39;49mlatch1\u001b[39m.\u001b[39;49mcentre_of_mass, monad_static\u001b[39m.\u001b[39;49mlatch1\u001b[39m.\u001b[39;49mpoint1)\n\u001b[1;32m    278\u001b[0m     monad_torque \u001b[39m=\u001b[39m Force2Torque(monad_mobile\u001b[39m.\u001b[39mmass\u001b[39m*\u001b[39mgravity, monad_mobile\u001b[39m.\u001b[39mcentre_of_mass, monad_static\u001b[39m.\u001b[39mlatch1\u001b[39m.\u001b[39mpoint1)\n\u001b[1;32m    279\u001b[0m     latch2_torque \u001b[39m=\u001b[39m Force2Torque(monad_static\u001b[39m.\u001b[39mlatch2\u001b[39m.\u001b[39mmass\u001b[39m*\u001b[39mgravity, monad_static\u001b[39m.\u001b[39mlatch2\u001b[39m.\u001b[39mcentre_of_mass, monad_static\u001b[39m.\u001b[39mlatch2\u001b[39m.\u001b[39mpoint2)\n",
      "\u001b[0;31mKeyboardInterrupt\u001b[0m: "
     ]
    }
   ],
   "source": [
    "n_step=200\n",
    "index_len = len(datom_index)\n",
    "static_force = np.zeros([index_len,n_step])\n",
    "mobile_force = np.zeros([index_len,n_step])\n",
    "torque_left = np.zeros([index_len,n_step])\n",
    "torqueright = np.zeros([index_len,n_step])\n",
    "shear_arr = np.zeros([index_len,n_step,2])\n",
    "\n",
    "for i in tqdm.trange(index_len):\n",
    "    parameter = datom_index[i]\n",
    "    static, mobile, torque_p1, torque_p2, shear = MonadTesting(radius=parameter[0],density=parameter[1],core=parameter[2],gravity=parameter[3],orientation=parameter[4],steps=n_step)\n",
    "    static_force[i,:] = static\n",
    "    mobile_force[i,:] = mobile\n",
    "    torque_left[i,:] = torque_p1\n",
    "    torqueright[i,:] = torque_p2\n",
    "    shear_arr[i,:,:] = shear"
   ]
  },
  {
   "cell_type": "code",
   "execution_count": null,
   "metadata": {},
   "outputs": [],
   "source": [
    "datom_columns = ['static monad force array', 'moving monad foce array', 'torque around left hinge array', 'torque around right hinge array', 'shear force array']\n",
    "\n",
    "datom_pd = pd.DataFrame(index=datom_index, columns=datom_columns)\n",
    "\n",
    "print(datom_pd)\n",
    "\n"
   ]
  },
  {
   "cell_type": "code",
   "execution_count": null,
   "metadata": {},
   "outputs": [],
   "source": [
    "for parameter in datom_columns:\n",
    "    result = MonadTesting(radius=parameter[0],density=parameter[1],core=parameter[2],gravity=parameter[3],orientation=parameter[4],steps=500)\n",
    "    datom_pd.add"
   ]
  }
 ],
 "metadata": {
  "kernelspec": {
   "display_name": "Python 3",
   "language": "python",
   "name": "python3"
  },
  "language_info": {
   "codemirror_mode": {
    "name": "ipython",
    "version": 3
   },
   "file_extension": ".py",
   "mimetype": "text/x-python",
   "name": "python",
   "nbconvert_exporter": "python",
   "pygments_lexer": "ipython3",
   "version": "3.9.6"
  },
  "orig_nbformat": 4,
  "vscode": {
   "interpreter": {
    "hash": "31f2aee4e71d21fbe5cf8b01ff0e069b9275f58929596ceb00d14d90e3e16cd6"
   }
  }
 },
 "nbformat": 4,
 "nbformat_minor": 2
}
